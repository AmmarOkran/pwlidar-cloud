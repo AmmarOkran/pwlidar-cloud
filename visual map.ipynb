{
 "cells": [
  {
   "cell_type": "markdown",
   "metadata": {},
   "source": [
    "\"\"\"\n",
    "Autor = Ammar Okran\n",
    "Fecha = 20/02/2019\n",
    "email = ammar.okran@gmail.com\n",
    "\n",
    "Description:\n",
    "\n",
    "Visualize a LiDAR data map\n",
    "\"\"\"\n"
   ]
  },
  {
   "cell_type": "code",
   "execution_count": 1,
   "metadata": {},
   "outputs": [],
   "source": [
    "import json\n",
    "import pdal\n",
    "import numpy as np\n",
    "import pptk\n",
    "import matplotlib\n",
    "matplotlib.use('Agg')\n",
    "import matplotlib.pyplot as plt\n",
    "import matplotlib.mlab as mlab\n",
    "from io import BytesIO"
   ]
  },
  {
   "cell_type": "code",
   "execution_count": 2,
   "metadata": {},
   "outputs": [],
   "source": [
    "def make_plot(dimensions, filename, dpi=300):\n",
    "    figure_position = 1\n",
    "    row = 1\n",
    "    fig = plt.figure(figure_position, figsize=(6, 8.5), dpi=dpi)\n",
    "    keys = dimensions.dtype.fields.keys()\n",
    "    data=[]\n",
    "    label1 = []\n",
    "    intensity =[]\n",
    "    otree = []\n",
    "    tree = []\n",
    "    \n",
    "    for key in keys:\n",
    "        dimension = dimensions[key]\n",
    "        print('key:',key,':',dimension.shape,np.unique(dimension).shape)\n",
    "        if key in ['X','Y','Z']:\n",
    "            data.append(dimensions[key]) \n",
    "            \n",
    "#         if key=='Classification':\n",
    "#             label=dimensions[key]\n",
    "        \n",
    "        if key in ['Red','Green','Blue']:\n",
    "            label1.append(dimensions[key])\n",
    "        \n",
    "#         if key == 'Intensity':\n",
    "#             label = dimensions[key]\n",
    "        \n",
    "        \n",
    "        \n",
    "    data=np.array(data)\n",
    "    data=np.transpose(data)\n",
    "    \n",
    "    label = np.array(label1)\n",
    "    label = np.transpose(label1)/65025.\n",
    "    \n",
    "    print(data.shape)\n",
    "    print(label.shape)     \n",
    "    v = pptk.viewer(data,label) \n",
    "    ##v.color_map('autumn', scale=[0, 10])\n",
    "    v.set(point_size=0.001) \n",
    "    return True"
   ]
  },
  {
   "cell_type": "code",
   "execution_count": 3,
   "metadata": {},
   "outputs": [],
   "source": [
    "pipline = {\n",
    "    \"pipeline\":[\n",
    "        {\n",
    "            \"type\" : \"readers.las\",\n",
    "            \"filename\":  \"./data/Coloreado (RGB) 2016 - PNOA-2016-CAT-352-4572-ORT-CLA-COL.LAZ\"\n",
    "        },\n",
    "        {\n",
    "            \"type\": \"filters.sort\",\n",
    "            \"dimension\": \"Z\"\n",
    "        }\n",
    "    ]\n",
    "}\n",
    "\n",
    "r = pdal.Pipeline(json.dumps(pipline, indent = 4))\n",
    "r.validate()\n",
    "n = r.execute()\n",
    "arrays = r.arrays"
   ]
  },
  {
   "cell_type": "code",
   "execution_count": 4,
   "metadata": {},
   "outputs": [
    {
     "name": "stdout",
     "output_type": "stream",
     "text": [
      "key: X : (3932567,) (200000,)\n",
      "key: Y : (3932567,) (199995,)\n",
      "key: Z : (3932567,) (9740,)\n",
      "key: Intensity : (3932567,) (255,)\n",
      "key: ReturnNumber : (3932567,) (4,)\n",
      "key: NumberOfReturns : (3932567,) (4,)\n",
      "key: ScanDirectionFlag : (3932567,) (2,)\n",
      "key: EdgeOfFlightLine : (3932567,) (2,)\n",
      "key: Classification : (3932567,) (8,)\n",
      "key: ScanAngleRank : (3932567,) (55,)\n",
      "key: UserData : (3932567,) (1,)\n",
      "key: PointSourceId : (3932567,) (3,)\n",
      "key: GpsTime : (3932567,) (3697808,)\n",
      "key: Red : (3932567,) (256,)\n",
      "key: Green : (3932567,) (256,)\n",
      "key: Blue : (3932567,) (256,)\n",
      "(3932567, 3)\n",
      "(3932567, 3)\n"
     ]
    },
    {
     "data": {
      "text/plain": [
       "True"
      ]
     },
     "execution_count": 4,
     "metadata": {},
     "output_type": "execute_result"
    }
   ],
   "source": [
    "make_plot(arrays[0], 'histogram.png')"
   ]
  },
  {
   "cell_type": "code",
   "execution_count": null,
   "metadata": {},
   "outputs": [],
   "source": []
  }
 ],
 "metadata": {
  "kernelspec": {
   "display_name": "Python 3",
   "language": "python",
   "name": "python3"
  },
  "language_info": {
   "codemirror_mode": {
    "name": "ipython",
    "version": 3
   },
   "file_extension": ".py",
   "mimetype": "text/x-python",
   "name": "python",
   "nbconvert_exporter": "python",
   "pygments_lexer": "ipython3",
   "version": "3.6.8"
  }
 },
 "nbformat": 4,
 "nbformat_minor": 4
}
